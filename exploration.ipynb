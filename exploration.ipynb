{
 "cells": [
  {
   "cell_type": "code",
   "execution_count": 64,
   "metadata": {
    "collapsed": false
   },
   "outputs": [
    {
     "name": "stdout",
     "output_type": "stream",
     "text": [
      "loaded ai\n"
     ]
    }
   ],
   "source": [
    "from game import Game\n",
    "from player import Player\n",
    "from player_ai import SharedAI\n",
    "\n",
    "from constants import *\n",
    "#BUILDING ORDER\n",
    "BUILDING_ORDER_ = BUILDING_ORDER + ['DO NOT BUY']\n",
    "\n",
    "\n",
    "game = Game(0,name='t001',options={'use_max_probability':True})\n",
    "players = game.players\n",
    "players[0].load_ai()\n",
    "shared_ai = SharedAI(players)\n",
    "\n"
   ]
  },
  {
   "cell_type": "code",
   "execution_count": 65,
   "metadata": {
    "collapsed": true
   },
   "outputs": [],
   "source": [
    "def set_player_attrs(attr, val):\n",
    "    global players\n",
    "    for i in range(4):\n",
    "        setattr(players[i], attr, val)"
   ]
  },
  {
   "cell_type": "code",
   "execution_count": 66,
   "metadata": {
    "collapsed": true
   },
   "outputs": [],
   "source": [
    "#let's see what the best option is to buy first turn\n",
    "p0 = players[0]\n",
    "p1 = players[1]\n",
    "p2 = players[2]\n",
    "p3 = players[3]\n",
    "\n",
    "ai = p0.AI\n",
    "#buy_ai = ai.buy_ai\n",
    "\n",
    "\n",
    "\n"
   ]
  },
  {
   "cell_type": "code",
   "execution_count": 67,
   "metadata": {
    "collapsed": false
   },
   "outputs": [
    {
     "name": "stdout",
     "output_type": "stream",
     "text": [
      "['amusement_park', 'apple_orchard', 'bakery', 'business_center', 'cafe', 'cheese_factory', 'convenience_store', 'family_restaurant', 'forest', 'fruit&veg_market', 'furniture_factory', 'mine', 'radio_tower', 'ranch', 'shopping_mall', 'stadium', 'station', 'tv_station', 'wheat_field']\n",
      "forest\n",
      "[('apple_orchard', 0.1989), ('bakery', 0.2351), ('cafe', 0.2371), ('convenience_store', 0.2517), ('family_restaurant', 0.2157), ('forest', 0.2594), ('fruit&veg_market', 0.1982), ('furniture_factory', 0.2014), ('ranch', 0.232), ('wheat_field', 0.2178), ('DO NOT BUY', 0.2178)]\n"
     ]
    }
   ],
   "source": [
    "#default; should be set already\n",
    "set_player_attrs('coins',3)\n",
    "p0.decide_buy()\n",
    "print BUILDING_ORDER\n",
    "print BUILDING_ORDER[p0.buy_choice]\n",
    "print [(x, round(y,4)) for x, y in zip(BUILDING_ORDER_, ai.eval_buy() * p0.buy_mask) if y > 0]"
   ]
  },
  {
   "cell_type": "markdown",
   "metadata": {},
   "source": [
    "according to the above, the best first move is to buy a forest!!!"
   ]
  },
  {
   "cell_type": "code",
   "execution_count": 68,
   "metadata": {
    "collapsed": false
   },
   "outputs": [
    {
     "name": "stdout",
     "output_type": "stream",
     "text": [
      "forest\n",
      "[('apple_orchard', 0.2015), ('bakery', 0.2346), ('cafe', 0.2376), ('convenience_store', 0.2553), ('family_restaurant', 0.2175), ('forest', 0.2585), ('fruit&veg_market', 0.2003), ('furniture_factory', 0.2029), ('ranch', 0.2351), ('station', 0.2159), ('wheat_field', 0.2188), ('DO NOT BUY', 0.2199)]\n"
     ]
    }
   ],
   "source": [
    "#does # of coins make a difference (say, a wheat was rolled)?\n",
    "set_player_attrs('coins',4)\n",
    "p0.decide_buy()\n",
    "print 'best build option:'\n",
    "print BUILDING_ORDER[p0.buy_choice]\n",
    "print 'probabilities of winning if you build...'\n",
    "print [(x, round(y,4)) for x, y in zip(BUILDING_ORDER_, ai.eval_buy() * p0.buy_mask) if y > 0]"
   ]
  },
  {
   "cell_type": "markdown",
   "metadata": {},
   "source": [
    "according to the above, the best first move is to buy a forest, too!!!"
   ]
  },
  {
   "cell_type": "code",
   "execution_count": 69,
   "metadata": {
    "collapsed": false
   },
   "outputs": [
    {
     "name": "stdout",
     "output_type": "stream",
     "text": [
      "apple_orchard\n",
      "[('amusement_park', 1.0), ('apple_orchard', 1.0), ('bakery', 1.0), ('business_center', 1.0), ('cafe', 1.0), ('cheese_factory', 1.0), ('convenience_store', 1.0), ('family_restaurant', 1.0), ('forest', 1.0), ('fruit&veg_market', 1.0), ('furniture_factory', 1.0), ('mine', 1.0), ('radio_tower', 1.0), ('ranch', 1.0), ('shopping_mall', 1.0), ('stadium', 1.0), ('station', 1.0), ('tv_station', 1.0), ('wheat_field', 1.0), ('DO NOT BUY', 1.0)]\n"
     ]
    }
   ],
   "source": [
    "#what if an unrealistic number is chosen for the player?\n",
    "p0.coins = 500\n",
    "p0.decide_buy()\n",
    "print 'best build option:'\n",
    "print BUILDING_ORDER[p0.buy_choice]\n",
    "print 'probabilities of winning if you build...'\n",
    "print [(x, round(y,4)) for x, y in zip(BUILDING_ORDER_, ai.eval_buy() * p0.buy_mask) if y > 0]\n",
    "p0.coins=4"
   ]
  },
  {
   "cell_type": "code",
   "execution_count": null,
   "metadata": {
    "collapsed": true
   },
   "outputs": [],
   "source": [
    "accurae statistics are given for a win"
   ]
  },
  {
   "cell_type": "code",
   "execution_count": 71,
   "metadata": {
    "collapsed": false
   },
   "outputs": [
    {
     "name": "stdout",
     "output_type": "stream",
     "text": [
      "convenience_store\n",
      "[('apple_orchard', 0.2069), ('bakery', 0.2334), ('cafe', 0.2369), ('cheese_factory', 0.2147), ('convenience_store', 0.2626), ('family_restaurant', 0.2211), ('forest', 0.2558), ('fruit&veg_market', 0.2052), ('furniture_factory', 0.2037), ('mine', 0.2172), ('ranch', 0.2409), ('stadium', 0.2304), ('station', 0.2145), ('wheat_field', 0.2194), ('DO NOT BUY', 0.2166)]\n"
     ]
    }
   ],
   "source": [
    "#let's give our player a bit more stuff to work with\n",
    "for player in players:\n",
    "    player.buildings.shopping_mall=1\n",
    "    player.buildings.convenience_store=1\n",
    "    player.buildings.forest=1\n",
    "    player.buildings.station=1\n",
    "    player.buildings.wheat_field=2\n",
    "    player.buildings.cafe=1\n",
    "    player.coins = 6\n",
    "    \n",
    "p0.decide_buy()\n",
    "print BUILDING_ORDER[p0.buy_choice]\n",
    "print [(x, round(y,4)) for x, y in zip(BUILDING_ORDER_, ai.eval_buy() * p0.buy_mask) if y > 0]\n",
    "for player in players:\n",
    "    player.coins = 4\n"
   ]
  },
  {
   "cell_type": "code",
   "execution_count": 72,
   "metadata": {
    "collapsed": false
   },
   "outputs": [
    {
     "name": "stdout",
     "output_type": "stream",
     "text": [
      "loaded ai\n",
      "Beginning game #0\n",
      "Player 1, order 1 won in 62 turns\n"
     ]
    },
    {
     "data": {
      "text/plain": [
       "[<player.Player at 0x7f93b66775d0>,\n",
       " <player.Player at 0x7f93b66779d0>,\n",
       " <player.Player at 0x7f93b6677850>,\n",
       " <player.Player at 0x7f93b6677890>]"
      ]
     },
     "execution_count": 72,
     "metadata": {},
     "output_type": "execute_result"
    }
   ],
   "source": [
    "#let's make a new game and then see the results:\n",
    "\n",
    "game = Game(0,name='t001',options={'use_max_probability':True})\n",
    "players = game.players\n",
    "players[0].load_ai()\n",
    "shared_ai = SharedAI(players)\n",
    "\n",
    "game.run()"
   ]
  },
  {
   "cell_type": "code",
   "execution_count": 75,
   "metadata": {
    "collapsed": false
   },
   "outputs": [
    {
     "name": "stdout",
     "output_type": "stream",
     "text": [
      "Player #0\n",
      "Won? No\n",
      "#coins: 3\n",
      "buildings:\n",
      "{'furniture_factory': 0, 'apple_orchard': 0, 'wheat_field': 2, 'fruit&veg_market': 1, 'radio_tower': 0, 'family_restaurant': 0, 'amusement_park': 0, 'mine': 0, 'convenience_store': 2, 'bakery': 3, 'station': 1, 'forest': 3, 'stadium': 1, 'business_center': 0, 'shopping_mall': 1, 'tv_station': 0, 'cafe': 1, 'cheese_factory': 0, 'ranch': 3}\n",
      "Player #1\n",
      "Won? Yes\n",
      "#coins: 0\n",
      "buildings:\n",
      "{'furniture_factory': 0, 'apple_orchard': 1, 'wheat_field': 2, 'fruit&veg_market': 0, 'radio_tower': 1, 'family_restaurant': 0, 'amusement_park': 1, 'mine': 0, 'convenience_store': 2, 'bakery': 3, 'station': 1, 'forest': 2, 'stadium': 0, 'business_center': 0, 'shopping_mall': 1, 'tv_station': 1, 'cafe': 1, 'cheese_factory': 0, 'ranch': 1}\n",
      "Player #2\n",
      "Won? No\n",
      "#coins: 1\n",
      "buildings:\n",
      "{'furniture_factory': 1, 'apple_orchard': 0, 'wheat_field': 2, 'fruit&veg_market': 2, 'radio_tower': 0, 'family_restaurant': 0, 'amusement_park': 0, 'mine': 2, 'convenience_store': 1, 'bakery': 1, 'station': 0, 'forest': 0, 'stadium': 1, 'business_center': 0, 'shopping_mall': 0, 'tv_station': 0, 'cafe': 2, 'cheese_factory': 1, 'ranch': 2}\n",
      "Player #3\n",
      "Won? No\n",
      "#coins: 15\n",
      "buildings:\n",
      "{'furniture_factory': 0, 'apple_orchard': 0, 'wheat_field': 4, 'fruit&veg_market': 2, 'radio_tower': 0, 'family_restaurant': 0, 'amusement_park': 0, 'mine': 0, 'convenience_store': 1, 'bakery': 3, 'station': 1, 'forest': 1, 'stadium': 1, 'business_center': 0, 'shopping_mall': 1, 'tv_station': 0, 'cafe': 2, 'cheese_factory': 1, 'ranch': 0}\n"
     ]
    }
   ],
   "source": [
    "for player in players:\n",
    "    print '------'\n",
    "    print 'Player #%d' % player.order\n",
    "    print 'Won? ' + str(['No','Yes'][player.win])\n",
    "    print '#coins: %d' % player.coins\n",
    "    print 'buildings:'\n",
    "    print player.buildings\n",
    "    "
   ]
  },
  {
   "cell_type": "code",
   "execution_count": 78,
   "metadata": {
    "collapsed": false
   },
   "outputs": [
    {
     "name": "stdout",
     "output_type": "stream",
     "text": [
      "Beginning game #1\n",
      "Player 1, order 2 won in 51 turns\n",
      "Player #0\n",
      "Won? No\n",
      "#coins: 6\n",
      "buildings:\n",
      "{'furniture_factory': 0, 'apple_orchard': 0, 'wheat_field': 3, 'fruit&veg_market': 1, 'radio_tower': 0, 'family_restaurant': 0, 'amusement_park': 0, 'mine': 0, 'convenience_store': 2, 'bakery': 3, 'station': 1, 'forest': 1, 'stadium': 1, 'business_center': 0, 'shopping_mall': 1, 'tv_station': 0, 'cafe': 1, 'cheese_factory': 0, 'ranch': 0}\n",
      "Player #1\n",
      "Won? No\n",
      "#coins: 5\n",
      "buildings:\n",
      "{'furniture_factory': 0, 'apple_orchard': 0, 'wheat_field': 3, 'fruit&veg_market': 0, 'radio_tower': 1, 'family_restaurant': 2, 'amusement_park': 0, 'mine': 0, 'convenience_store': 1, 'bakery': 3, 'station': 1, 'forest': 0, 'stadium': 0, 'business_center': 0, 'shopping_mall': 1, 'tv_station': 0, 'cafe': 0, 'cheese_factory': 0, 'ranch': 3}\n",
      "Player #2\n",
      "Won? Yes\n",
      "#coins: 0\n",
      "buildings:\n",
      "{'furniture_factory': 0, 'apple_orchard': 0, 'wheat_field': 3, 'fruit&veg_market': 1, 'radio_tower': 1, 'family_restaurant': 0, 'amusement_park': 1, 'mine': 0, 'convenience_store': 2, 'bakery': 3, 'station': 1, 'forest': 0, 'stadium': 1, 'business_center': 0, 'shopping_mall': 1, 'tv_station': 0, 'cafe': 1, 'cheese_factory': 0, 'ranch': 0}\n",
      "Player #3\n",
      "Won? No\n",
      "#coins: 10\n",
      "buildings:\n",
      "{'furniture_factory': 0, 'apple_orchard': 0, 'wheat_field': 1, 'fruit&veg_market': 1, 'radio_tower': 1, 'family_restaurant': 2, 'amusement_park': 0, 'mine': 0, 'convenience_store': 1, 'bakery': 1, 'station': 0, 'forest': 0, 'stadium': 1, 'business_center': 0, 'shopping_mall': 1, 'tv_station': 1, 'cafe': 1, 'cheese_factory': 0, 'ranch': 3}\n",
      "Beginning game #2\n",
      "Player 0, order 3 won in 72 turns\n",
      "Player #0\n",
      "Won? No\n",
      "#coins: 12\n",
      "buildings:\n",
      "{'furniture_factory': 0, 'apple_orchard': 0, 'wheat_field': 3, 'fruit&veg_market': 2, 'radio_tower': 0, 'family_restaurant': 1, 'amusement_park': 1, 'mine': 0, 'convenience_store': 1, 'bakery': 1, 'station': 1, 'forest': 1, 'stadium': 1, 'business_center': 0, 'shopping_mall': 1, 'tv_station': 1, 'cafe': 2, 'cheese_factory': 0, 'ranch': 1}\n",
      "Player #1\n",
      "Won? No\n",
      "#coins: 8\n",
      "buildings:\n",
      "{'furniture_factory': 0, 'apple_orchard': 0, 'wheat_field': 3, 'fruit&veg_market': 0, 'radio_tower': 0, 'family_restaurant': 2, 'amusement_park': 0, 'mine': 0, 'convenience_store': 1, 'bakery': 4, 'station': 1, 'forest': 2, 'stadium': 1, 'business_center': 0, 'shopping_mall': 1, 'tv_station': 1, 'cafe': 1, 'cheese_factory': 0, 'ranch': 2}\n",
      "Player #2\n",
      "Won? No\n",
      "#coins: 0\n",
      "buildings:\n",
      "{'furniture_factory': 0, 'apple_orchard': 2, 'wheat_field': 1, 'fruit&veg_market': 2, 'radio_tower': 0, 'family_restaurant': 1, 'amusement_park': 0, 'mine': 0, 'convenience_store': 2, 'bakery': 3, 'station': 1, 'forest': 1, 'stadium': 1, 'business_center': 0, 'shopping_mall': 0, 'tv_station': 1, 'cafe': 1, 'cheese_factory': 0, 'ranch': 3}\n",
      "Player #3\n",
      "Won? Yes\n",
      "#coins: 2\n",
      "buildings:\n",
      "{'furniture_factory': 1, 'apple_orchard': 0, 'wheat_field': 3, 'fruit&veg_market': 1, 'radio_tower': 1, 'family_restaurant': 1, 'amusement_park': 1, 'mine': 0, 'convenience_store': 2, 'bakery': 2, 'station': 1, 'forest': 2, 'stadium': 1, 'business_center': 0, 'shopping_mall': 1, 'tv_station': 0, 'cafe': 2, 'cheese_factory': 0, 'ranch': 0}\n",
      "Beginning game #3\n",
      "Player 1, order 0 won in 49 turns\n",
      "Player #0\n",
      "Won? Yes\n",
      "#coins: 1\n",
      "buildings:\n",
      "{'furniture_factory': 0, 'apple_orchard': 0, 'wheat_field': 4, 'fruit&veg_market': 0, 'radio_tower': 1, 'family_restaurant': 0, 'amusement_park': 1, 'mine': 0, 'convenience_store': 1, 'bakery': 2, 'station': 1, 'forest': 1, 'stadium': 1, 'business_center': 0, 'shopping_mall': 1, 'tv_station': 0, 'cafe': 0, 'cheese_factory': 0, 'ranch': 1}\n",
      "Player #1\n",
      "Won? No\n",
      "#coins: 9\n",
      "buildings:\n",
      "{'furniture_factory': 0, 'apple_orchard': 0, 'wheat_field': 2, 'fruit&veg_market': 0, 'radio_tower': 0, 'family_restaurant': 0, 'amusement_park': 0, 'mine': 0, 'convenience_store': 2, 'bakery': 2, 'station': 1, 'forest': 1, 'stadium': 1, 'business_center': 0, 'shopping_mall': 1, 'tv_station': 0, 'cafe': 1, 'cheese_factory': 0, 'ranch': 3}\n",
      "Player #2\n",
      "Won? No\n",
      "#coins: 9\n",
      "buildings:\n",
      "{'furniture_factory': 1, 'apple_orchard': 0, 'wheat_field': 2, 'fruit&veg_market': 0, 'radio_tower': 0, 'family_restaurant': 0, 'amusement_park': 0, 'mine': 0, 'convenience_store': 2, 'bakery': 3, 'station': 1, 'forest': 0, 'stadium': 0, 'business_center': 0, 'shopping_mall': 1, 'tv_station': 0, 'cafe': 2, 'cheese_factory': 0, 'ranch': 2}\n",
      "Player #3\n",
      "Won? No\n",
      "#coins: 1\n",
      "buildings:\n",
      "{'furniture_factory': 0, 'apple_orchard': 0, 'wheat_field': 2, 'fruit&veg_market': 0, 'radio_tower': 0, 'family_restaurant': 1, 'amusement_park': 0, 'mine': 0, 'convenience_store': 1, 'bakery': 3, 'station': 1, 'forest': 1, 'stadium': 0, 'business_center': 0, 'shopping_mall': 0, 'tv_station': 1, 'cafe': 3, 'cheese_factory': 0, 'ranch': 0}\n",
      "Beginning game #4\n",
      "Player 1, order 0 won in 53 turns\n",
      "Player #0\n",
      "Won? Yes\n",
      "#coins: 11\n",
      "buildings:\n",
      "{'furniture_factory': 0, 'apple_orchard': 0, 'wheat_field': 3, 'fruit&veg_market': 0, 'radio_tower': 1, 'family_restaurant': 0, 'amusement_park': 1, 'mine': 0, 'convenience_store': 2, 'bakery': 3, 'station': 1, 'forest': 1, 'stadium': 1, 'business_center': 0, 'shopping_mall': 1, 'tv_station': 0, 'cafe': 1, 'cheese_factory': 0, 'ranch': 1}\n",
      "Player #1\n",
      "Won? No\n",
      "#coins: 18\n",
      "buildings:\n",
      "{'furniture_factory': 1, 'apple_orchard': 0, 'wheat_field': 1, 'fruit&veg_market': 0, 'radio_tower': 0, 'family_restaurant': 0, 'amusement_park': 0, 'mine': 0, 'convenience_store': 2, 'bakery': 4, 'station': 1, 'forest': 2, 'stadium': 1, 'business_center': 0, 'shopping_mall': 1, 'tv_station': 0, 'cafe': 0, 'cheese_factory': 0, 'ranch': 2}\n",
      "Player #2\n",
      "Won? No\n",
      "#coins: 16\n",
      "buildings:\n",
      "{'furniture_factory': 1, 'apple_orchard': 1, 'wheat_field': 2, 'fruit&veg_market': 0, 'radio_tower': 0, 'family_restaurant': 0, 'amusement_park': 0, 'mine': 0, 'convenience_store': 1, 'bakery': 2, 'station': 1, 'forest': 2, 'stadium': 1, 'business_center': 0, 'shopping_mall': 1, 'tv_station': 0, 'cafe': 1, 'cheese_factory': 0, 'ranch': 2}\n",
      "Player #3\n",
      "Won? No\n",
      "#coins: 6\n",
      "buildings:\n",
      "{'furniture_factory': 0, 'apple_orchard': 1, 'wheat_field': 4, 'fruit&veg_market': 0, 'radio_tower': 0, 'family_restaurant': 0, 'amusement_park': 1, 'mine': 0, 'convenience_store': 1, 'bakery': 1, 'station': 1, 'forest': 1, 'stadium': 1, 'business_center': 0, 'shopping_mall': 1, 'tv_station': 1, 'cafe': 1, 'cheese_factory': 0, 'ranch': 1}\n",
      "Beginning game #5\n",
      "Player 0, order 2 won in 67 turns\n",
      "Player #0\n",
      "Won? No\n",
      "#coins: 2\n",
      "buildings:\n",
      "{'furniture_factory': 1, 'apple_orchard': 1, 'wheat_field': 3, 'fruit&veg_market': 2, 'radio_tower': 0, 'family_restaurant': 1, 'amusement_park': 0, 'mine': 0, 'convenience_store': 2, 'bakery': 2, 'station': 1, 'forest': 1, 'stadium': 1, 'business_center': 0, 'shopping_mall': 1, 'tv_station': 1, 'cafe': 1, 'cheese_factory': 0, 'ranch': 1}\n",
      "Player #1\n",
      "Won? No\n",
      "#coins: 13\n",
      "buildings:\n",
      "{'furniture_factory': 1, 'apple_orchard': 0, 'wheat_field': 2, 'fruit&veg_market': 1, 'radio_tower': 0, 'family_restaurant': 1, 'amusement_park': 0, 'mine': 0, 'convenience_store': 2, 'bakery': 2, 'station': 1, 'forest': 1, 'stadium': 1, 'business_center': 0, 'shopping_mall': 1, 'tv_station': 0, 'cafe': 3, 'cheese_factory': 0, 'ranch': 3}\n",
      "Player #2\n",
      "Won? Yes\n",
      "#coins: 5\n",
      "buildings:\n",
      "{'furniture_factory': 0, 'apple_orchard': 0, 'wheat_field': 3, 'fruit&veg_market': 1, 'radio_tower': 1, 'family_restaurant': 0, 'amusement_park': 1, 'mine': 0, 'convenience_store': 2, 'bakery': 4, 'station': 1, 'forest': 1, 'stadium': 1, 'business_center': 0, 'shopping_mall': 1, 'tv_station': 1, 'cafe': 1, 'cheese_factory': 0, 'ranch': 1}\n",
      "Player #3\n",
      "Won? No\n",
      "#coins: 10\n",
      "buildings:\n",
      "{'furniture_factory': 0, 'apple_orchard': 1, 'wheat_field': 2, 'fruit&veg_market': 2, 'radio_tower': 0, 'family_restaurant': 1, 'amusement_park': 1, 'mine': 0, 'convenience_store': 0, 'bakery': 2, 'station': 1, 'forest': 2, 'stadium': 1, 'business_center': 0, 'shopping_mall': 1, 'tv_station': 0, 'cafe': 1, 'cheese_factory': 0, 'ranch': 1}\n",
      "Beginning game #6\n",
      "Player 1, order 2 won in 47 turns\n",
      "Player #0\n",
      "Won? No\n",
      "#coins: 0\n",
      "buildings:\n",
      "{'furniture_factory': 0, 'apple_orchard': 0, 'wheat_field': 3, 'fruit&veg_market': 0, 'radio_tower': 0, 'family_restaurant': 0, 'amusement_park': 0, 'mine': 0, 'convenience_store': 3, 'bakery': 1, 'station': 1, 'forest': 2, 'stadium': 0, 'business_center': 0, 'shopping_mall': 0, 'tv_station': 0, 'cafe': 2, 'cheese_factory': 0, 'ranch': 1}\n",
      "Player #1\n",
      "Won? No\n",
      "#coins: 6\n",
      "buildings:\n",
      "{'furniture_factory': 1, 'apple_orchard': 0, 'wheat_field': 3, 'fruit&veg_market': 0, 'radio_tower': 0, 'family_restaurant': 1, 'amusement_park': 0, 'mine': 0, 'convenience_store': 1, 'bakery': 2, 'station': 1, 'forest': 1, 'stadium': 1, 'business_center': 0, 'shopping_mall': 1, 'tv_station': 0, 'cafe': 1, 'cheese_factory': 0, 'ranch': 1}\n",
      "Player #2\n",
      "Won? Yes\n",
      "#coins: 0\n",
      "buildings:\n",
      "{'furniture_factory': 0, 'apple_orchard': 0, 'wheat_field': 2, 'fruit&veg_market': 1, 'radio_tower': 1, 'family_restaurant': 0, 'amusement_park': 1, 'mine': 0, 'convenience_store': 2, 'bakery': 1, 'station': 1, 'forest': 0, 'stadium': 1, 'business_center': 0, 'shopping_mall': 1, 'tv_station': 0, 'cafe': 1, 'cheese_factory': 0, 'ranch': 1}\n",
      "Player #3\n",
      "Won? No\n",
      "#coins: 0\n",
      "buildings:\n",
      "{'furniture_factory': 1, 'apple_orchard': 2, 'wheat_field': 2, 'fruit&veg_market': 0, 'radio_tower': 0, 'family_restaurant': 0, 'amusement_park': 0, 'mine': 0, 'convenience_store': 0, 'bakery': 1, 'station': 1, 'forest': 1, 'stadium': 0, 'business_center': 0, 'shopping_mall': 0, 'tv_station': 0, 'cafe': 0, 'cheese_factory': 0, 'ranch': 3}\n",
      "Beginning game #7\n",
      "Player 2, order 0 won in 57 turns\n",
      "Player #0\n",
      "Won? Yes\n",
      "#coins: 4\n",
      "buildings:\n",
      "{'furniture_factory': 0, 'apple_orchard': 0, 'wheat_field': 4, 'fruit&veg_market': 1, 'radio_tower': 1, 'family_restaurant': 0, 'amusement_park': 1, 'mine': 0, 'convenience_store': 1, 'bakery': 1, 'station': 1, 'forest': 1, 'stadium': 1, 'business_center': 1, 'shopping_mall': 1, 'tv_station': 0, 'cafe': 0, 'cheese_factory': 0, 'ranch': 2}\n",
      "Player #1\n",
      "Won? No\n",
      "#coins: 2\n",
      "buildings:\n",
      "{'furniture_factory': 0, 'apple_orchard': 0, 'wheat_field': 3, 'fruit&veg_market': 0, 'radio_tower': 0, 'family_restaurant': 0, 'amusement_park': 1, 'mine': 1, 'convenience_store': 1, 'bakery': 2, 'station': 1, 'forest': 1, 'stadium': 1, 'business_center': 0, 'shopping_mall': 1, 'tv_station': 0, 'cafe': 3, 'cheese_factory': 0, 'ranch': 1}\n",
      "Player #2\n",
      "Won? No\n",
      "#coins: 9\n",
      "buildings:\n",
      "{'furniture_factory': 1, 'apple_orchard': 0, 'wheat_field': 2, 'fruit&veg_market': 1, 'radio_tower': 1, 'family_restaurant': 0, 'amusement_park': 0, 'mine': 0, 'convenience_store': 1, 'bakery': 1, 'station': 1, 'forest': 1, 'stadium': 1, 'business_center': 0, 'shopping_mall': 1, 'tv_station': 0, 'cafe': 2, 'cheese_factory': 0, 'ranch': 3}\n",
      "Player #3\n",
      "Won? No\n",
      "#coins: 3\n",
      "buildings:\n",
      "{'furniture_factory': 1, 'apple_orchard': 2, 'wheat_field': 1, 'fruit&veg_market': 0, 'radio_tower': 0, 'family_restaurant': 1, 'amusement_park': 0, 'mine': 0, 'convenience_store': 3, 'bakery': 4, 'station': 1, 'forest': 0, 'stadium': 0, 'business_center': 0, 'shopping_mall': 0, 'tv_station': 0, 'cafe': 1, 'cheese_factory': 0, 'ranch': 0}\n",
      "Beginning game #8\n",
      "Player 1, order 3 won in 56 turns\n",
      "Player #0\n",
      "Won? No\n",
      "#coins: 4\n",
      "buildings:\n",
      "{'furniture_factory': 0, 'apple_orchard': 1, 'wheat_field': 3, 'fruit&veg_market': 0, 'radio_tower': 0, 'family_restaurant': 0, 'amusement_park': 0, 'mine': 0, 'convenience_store': 2, 'bakery': 3, 'station': 1, 'forest': 2, 'stadium': 1, 'business_center': 0, 'shopping_mall': 1, 'tv_station': 0, 'cafe': 1, 'cheese_factory': 0, 'ranch': 1}\n",
      "Player #1\n",
      "Won? No\n",
      "#coins: 10\n",
      "buildings:\n",
      "{'furniture_factory': 0, 'apple_orchard': 0, 'wheat_field': 2, 'fruit&veg_market': 2, 'radio_tower': 0, 'family_restaurant': 2, 'amusement_park': 0, 'mine': 0, 'convenience_store': 2, 'bakery': 3, 'station': 1, 'forest': 0, 'stadium': 0, 'business_center': 0, 'shopping_mall': 1, 'tv_station': 0, 'cafe': 1, 'cheese_factory': 0, 'ranch': 2}\n",
      "Player #2\n",
      "Won? No\n",
      "#coins: 9\n",
      "buildings:\n",
      "{'furniture_factory': 0, 'apple_orchard': 0, 'wheat_field': 4, 'fruit&veg_market': 0, 'radio_tower': 0, 'family_restaurant': 1, 'amusement_park': 1, 'mine': 0, 'convenience_store': 0, 'bakery': 3, 'station': 1, 'forest': 0, 'stadium': 1, 'business_center': 0, 'shopping_mall': 1, 'tv_station': 0, 'cafe': 2, 'cheese_factory': 0, 'ranch': 1}\n",
      "Player #3\n",
      "Won? Yes\n",
      "#coins: 6\n",
      "buildings:\n",
      "{'furniture_factory': 0, 'apple_orchard': 0, 'wheat_field': 1, 'fruit&veg_market': 0, 'radio_tower': 1, 'family_restaurant': 0, 'amusement_park': 1, 'mine': 0, 'convenience_store': 2, 'bakery': 1, 'station': 1, 'forest': 0, 'stadium': 1, 'business_center': 0, 'shopping_mall': 1, 'tv_station': 1, 'cafe': 2, 'cheese_factory': 0, 'ranch': 2}\n",
      "Beginning game #9\n",
      "Player 1, order 0 won in 57 turns\n",
      "Player #0\n",
      "Won? Yes\n",
      "#coins: 7\n",
      "buildings:\n",
      "{'furniture_factory': 0, 'apple_orchard': 0, 'wheat_field': 3, 'fruit&veg_market': 0, 'radio_tower': 1, 'family_restaurant': 0, 'amusement_park': 1, 'mine': 0, 'convenience_store': 1, 'bakery': 4, 'station': 1, 'forest': 1, 'stadium': 1, 'business_center': 0, 'shopping_mall': 1, 'tv_station': 0, 'cafe': 0, 'cheese_factory': 0, 'ranch': 1}\n",
      "Player #1\n",
      "Won? No\n",
      "#coins: 9\n",
      "buildings:\n",
      "{'furniture_factory': 0, 'apple_orchard': 0, 'wheat_field': 2, 'fruit&veg_market': 0, 'radio_tower': 0, 'family_restaurant': 2, 'amusement_park': 0, 'mine': 0, 'convenience_store': 2, 'bakery': 3, 'station': 1, 'forest': 1, 'stadium': 0, 'business_center': 0, 'shopping_mall': 1, 'tv_station': 0, 'cafe': 1, 'cheese_factory': 0, 'ranch': 2}\n",
      "Player #2\n",
      "Won? No\n",
      "#coins: 10\n",
      "buildings:\n",
      "{'furniture_factory': 1, 'apple_orchard': 0, 'wheat_field': 2, 'fruit&veg_market': 1, 'radio_tower': 0, 'family_restaurant': 0, 'amusement_park': 0, 'mine': 0, 'convenience_store': 2, 'bakery': 2, 'station': 1, 'forest': 1, 'stadium': 0, 'business_center': 0, 'shopping_mall': 1, 'tv_station': 1, 'cafe': 1, 'cheese_factory': 0, 'ranch': 2}\n",
      "Player #3\n",
      "Won? No\n",
      "#coins: 7\n",
      "buildings:\n",
      "{'furniture_factory': 1, 'apple_orchard': 0, 'wheat_field': 3, 'fruit&veg_market': 1, 'radio_tower': 0, 'family_restaurant': 0, 'amusement_park': 1, 'mine': 0, 'convenience_store': 1, 'bakery': 1, 'station': 1, 'forest': 3, 'stadium': 0, 'business_center': 0, 'shopping_mall': 1, 'tv_station': 1, 'cafe': 1, 'cheese_factory': 0, 'ranch': 1}\n",
      "Beginning game #10\n",
      "Player 0, order 2 won in 47 turns\n",
      "Player #0\n",
      "Won? No\n",
      "#coins: 4\n",
      "buildings:\n",
      "{'furniture_factory': 0, 'apple_orchard': 0, 'wheat_field': 4, 'fruit&veg_market': 0, 'radio_tower': 0, 'family_restaurant': 0, 'amusement_park': 0, 'mine': 1, 'convenience_store': 2, 'bakery': 2, 'station': 1, 'forest': 1, 'stadium': 0, 'business_center': 0, 'shopping_mall': 1, 'tv_station': 0, 'cafe': 1, 'cheese_factory': 0, 'ranch': 1}\n",
      "Player #1\n",
      "Won? No\n",
      "#coins: 2\n",
      "buildings:\n",
      "{'furniture_factory': 0, 'apple_orchard': 0, 'wheat_field': 1, 'fruit&veg_market': 1, 'radio_tower': 0, 'family_restaurant': 0, 'amusement_park': 0, 'mine': 0, 'convenience_store': 1, 'bakery': 3, 'station': 1, 'forest': 1, 'stadium': 0, 'business_center': 0, 'shopping_mall': 1, 'tv_station': 1, 'cafe': 2, 'cheese_factory': 0, 'ranch': 2}\n",
      "Player #2\n",
      "Won? Yes\n",
      "#coins: 2\n",
      "buildings:\n",
      "{'furniture_factory': 0, 'apple_orchard': 0, 'wheat_field': 3, 'fruit&veg_market': 0, 'radio_tower': 1, 'family_restaurant': 0, 'amusement_park': 1, 'mine': 0, 'convenience_store': 3, 'bakery': 1, 'station': 1, 'forest': 0, 'stadium': 1, 'business_center': 0, 'shopping_mall': 1, 'tv_station': 0, 'cafe': 2, 'cheese_factory': 0, 'ranch': 0}\n",
      "Player #3\n",
      "Won? No\n",
      "#coins: 18\n",
      "buildings:\n",
      "{'furniture_factory': 0, 'apple_orchard': 0, 'wheat_field': 2, 'fruit&veg_market': 0, 'radio_tower': 0, 'family_restaurant': 0, 'amusement_park': 1, 'mine': 0, 'convenience_store': 0, 'bakery': 1, 'station': 1, 'forest': 0, 'stadium': 1, 'business_center': 0, 'shopping_mall': 1, 'tv_station': 0, 'cafe': 0, 'cheese_factory': 0, 'ranch': 3}\n"
     ]
    }
   ],
   "source": [
    "#just for fun let's run that a few more times\n",
    "\n",
    "for i in range(10):\n",
    "    game = Game(1 + i,players, options={'use_max_probability':True})\n",
    "    players = game.players\n",
    "    game.run()\n",
    "    for player in players:\n",
    "        print '------'\n",
    "        print 'Player #%d' % player.order\n",
    "        print 'Won? ' + str(['No','Yes'][player.win])\n",
    "        print '#coins: %d' % player.coins\n",
    "        print 'buildings:'\n",
    "        print player.buildings"
   ]
  },
  {
   "cell_type": "code",
   "execution_count": null,
   "metadata": {
    "collapsed": true
   },
   "outputs": [],
   "source": []
  }
 ],
 "metadata": {
  "kernelspec": {
   "display_name": "Python 2",
   "language": "python",
   "name": "python2"
  },
  "language_info": {
   "codemirror_mode": {
    "name": "ipython",
    "version": 2
   },
   "file_extension": ".py",
   "mimetype": "text/x-python",
   "name": "python",
   "nbconvert_exporter": "python",
   "pygments_lexer": "ipython2",
   "version": "2.7.12"
  }
 },
 "nbformat": 4,
 "nbformat_minor": 2
}
